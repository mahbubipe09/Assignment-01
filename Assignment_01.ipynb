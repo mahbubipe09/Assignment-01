{
  "cells": [
    {
      "cell_type": "markdown",
      "metadata": {
        "id": "view-in-github",
        "colab_type": "text"
      },
      "source": [
        "<a href=\"https://colab.research.google.com/github/mahbubipe09/Assignment-01/blob/main/Assignment_01.ipynb\" target=\"_parent\"><img src=\"https://colab.research.google.com/assets/colab-badge.svg\" alt=\"Open In Colab\"/></a>"
      ]
    },
    {
      "cell_type": "markdown",
      "id": "3ef0925b",
      "metadata": {
        "id": "3ef0925b"
      },
      "source": [
        "1. Write a Python program to count the number of characters (character frequency) in a string. Sample String : google.com\n",
        "Expected Result : {'o': 3, 'g': 2, '.': 1, 'e': 1, 'l': 1, 'm': 1, 'c': 1}"
      ]
    },
    {
      "cell_type": "code",
      "execution_count": null,
      "id": "1530cbfd",
      "metadata": {
        "colab": {
          "base_uri": "https://localhost:8080/"
        },
        "id": "1530cbfd",
        "outputId": "ed03b489-0b08-47a7-bff1-e711a3268e72"
      },
      "outputs": [
        {
          "output_type": "stream",
          "name": "stdout",
          "text": [
            "{'g': 2, 'o': 3, 'l': 1, 'e': 1, '.': 1, 'c': 1, 'm': 1}\n"
          ]
        }
      ],
      "source": [
        "string = \"google.com\"\n",
        "freq = {}\n",
        "for char in string:\n",
        "    if char in freq:\n",
        "        freq[char] += 1\n",
        "    else:\n",
        "        freq[char] = 1\n",
        "print(freq)\n"
      ]
    },
    {
      "cell_type": "markdown",
      "id": "83111500",
      "metadata": {
        "id": "83111500"
      },
      "source": [
        "Write a Python program to check if a given key already exists in a dictionary. "
      ]
    },
    {
      "cell_type": "code",
      "execution_count": null,
      "id": "191dcf47",
      "metadata": {
        "colab": {
          "base_uri": "https://localhost:8080/"
        },
        "id": "191dcf47",
        "outputId": "90f3d9ff-9136-4f3f-a7a2-14b94db8b842"
      },
      "outputs": [
        {
          "output_type": "stream",
          "name": "stdout",
          "text": [
            "Enter key to check: a\n",
            "Key exists in the dictionary.\n"
          ]
        }
      ],
      "source": [
        "my_dict = {'a': 1, 'b': 2, 'c': '3'}\n",
        "\n",
        "key = input(\"Enter key to check: \")\n",
        "\n",
        "if key in my_dict:\n",
        "    print(\"Key exists in the dictionary.\")\n",
        "else:\n",
        "    print(\"Key does not exist in the dictionary.\")\n",
        "\n"
      ]
    },
    {
      "cell_type": "markdown",
      "id": "4dad0863",
      "metadata": {
        "id": "4dad0863"
      },
      "source": [
        "Write a Python program that accepts a sequence of comma-separated numbers fromtheuser and generates a list and a tuple of those numbers. \n",
        "Sample data : 1, 5, 7, 23 \n",
        "Expected Output : \n",
        "List : ['1', ' 5', ' 7', ' 23'] \n",
        "Tuple : ('1', ' 5', ' 7', ' 23') \n"
      ]
    },
    {
      "cell_type": "code",
      "execution_count": null,
      "id": "790c010a",
      "metadata": {
        "colab": {
          "base_uri": "https://localhost:8080/"
        },
        "id": "790c010a",
        "outputId": "d7c51cd0-db19-4fec-c307-7912003f2312"
      },
      "outputs": [
        {
          "output_type": "stream",
          "name": "stdout",
          "text": [
            "Enter a sequence of comma-separated numbers: 1,2,3,4\n",
            "List: ['1', '2', '3', '4']\n",
            "Tuple: ('1', '2', '3', '4')\n"
          ]
        }
      ],
      "source": [
        "# get the input from the user\n",
        "input_string = input(\"Enter a sequence of comma-separated numbers: \")\n",
        "\n",
        "# split the input string into a list of numbers\n",
        "numbers_list = input_string.split(\",\")\n",
        "\n",
        "# create a tuple from the list\n",
        "numbers_tuple = tuple(numbers_list)\n",
        "\n",
        "# print the list and tuple\n",
        "print(\"List:\", numbers_list)\n",
        "print(\"Tuple:\", numbers_tuple)"
      ]
    },
    {
      "cell_type": "markdown",
      "id": "a195329c",
      "metadata": {
        "id": "a195329c"
      },
      "source": [
        "Write a Python program to calculate the number of days between two dates. Sample dates : (2014, 7, 2), (2014, 7, 11) \n",
        "Expected output : 9 days \n"
      ]
    },
    {
      "cell_type": "code",
      "execution_count": null,
      "id": "f911bcaa",
      "metadata": {
        "colab": {
          "base_uri": "https://localhost:8080/"
        },
        "id": "f911bcaa",
        "outputId": "208f6100-97aa-4df4-c7a3-5f69ad91473c"
      },
      "outputs": [
        {
          "output_type": "stream",
          "name": "stdout",
          "text": [
            "9 days\n"
          ]
        }
      ],
      "source": [
        "from datetime import date\n",
        "\n",
        "# define the two dates as tuples\n",
        "date1 = date(2014, 7, 2)\n",
        "date2 = date(2014, 7, 11)\n",
        "\n",
        "# calculate the number of days between the dates\n",
        "delta = date2 - date1\n",
        "num_days = delta.days\n",
        "\n",
        "# print the result\n",
        "print(num_days, \"days\")\n"
      ]
    },
    {
      "cell_type": "markdown",
      "id": "37664d4c",
      "metadata": {
        "id": "37664d4c"
      },
      "source": [
        "Write a Python program to solve (x + y) * (x + y). Test Data : x = 4, y = 3 \n",
        "Expected Output : (4 + 3) ^ 2) = 49 "
      ]
    },
    {
      "cell_type": "code",
      "execution_count": null,
      "id": "aa9e89d6",
      "metadata": {
        "colab": {
          "base_uri": "https://localhost:8080/"
        },
        "id": "aa9e89d6",
        "outputId": "36062e1a-4a80-42d0-d90b-8f651733431c"
      },
      "outputs": [
        {
          "output_type": "stream",
          "name": "stdout",
          "text": [
            "(4 + 3) ^ 2 = 49\n"
          ]
        }
      ],
      "source": [
        "# define the values of x and y\n",
        "x = 4\n",
        "y = 3\n",
        "\n",
        "# evaluate the equation (x + y) * (x + y)\n",
        "result = (x + y) * (x + y)\n",
        "\n",
        "# print the result\n",
        "print(\"({} + {}) ^ 2 = {}\".format(x, y, result))\n"
      ]
    },
    {
      "cell_type": "markdown",
      "id": "7ff03f9a",
      "metadata": {
        "id": "7ff03f9a"
      },
      "source": [
        " Write a Python program to compute the future value of a specified principal amount,rate of interest, and number of years. \n",
        "Test Data : amt = 10000, int = 3.5, years = 7 \n",
        "Expected Output : 12722.79 "
      ]
    },
    {
      "cell_type": "code",
      "execution_count": null,
      "id": "4aa04fa3",
      "metadata": {
        "colab": {
          "base_uri": "https://localhost:8080/"
        },
        "id": "4aa04fa3",
        "outputId": "20e5fb64-3376-4cb8-b9ce-230f7c570c4d"
      },
      "outputs": [
        {
          "output_type": "stream",
          "name": "stdout",
          "text": [
            "Future value: 12722.79\n"
          ]
        }
      ],
      "source": [
        "amt = 10000\n",
        "int_rate = 3.5\n",
        "years = 7\n",
        "\n",
        "future_value = amt * (1 + int_rate/100) ** years\n",
        "\n",
        "print(\"Future value:\", round(future_value, 2))\n"
      ]
    },
    {
      "cell_type": "markdown",
      "id": "fe3adb4d",
      "metadata": {
        "id": "fe3adb4d"
      },
      "source": [
        "Write a Python program that removes duplicate elements from a given array of numberssothat each element appears only once and returns the new length of the array. \n",
        "Sample Input: [0,0,1,1,2,2,3,3,4,4,4] \n",
        "Sample Output: \n",
        "The list of unique numbers: [0,1,2,3,4] \n",
        "length of the unique list : 5 \n"
      ]
    },
    {
      "cell_type": "code",
      "execution_count": null,
      "id": "6f4eb9b5",
      "metadata": {
        "colab": {
          "base_uri": "https://localhost:8080/"
        },
        "id": "6f4eb9b5",
        "outputId": "09faacad-57ce-4519-ef5b-2296de23a2ed"
      },
      "outputs": [
        {
          "output_type": "stream",
          "name": "stdout",
          "text": [
            "The list of unique numbers: [0, 1, 2, 3, 4]\n",
            "Length of the unique list: 5\n"
          ]
        }
      ],
      "source": [
        "def remove_duplicates(arr):\n",
        "    unique_arr = []\n",
        "    for num in arr:\n",
        "        if num not in unique_arr:\n",
        "            unique_arr.append(num)\n",
        "    return unique_arr, len(unique_arr)\n",
        "\n",
        "input_arr = [0,0,1,1,2,2,3,3,4,4,4]\n",
        "unique_arr, length = remove_duplicates(input_arr)\n",
        "\n",
        "print(\"The list of unique numbers:\", unique_arr)\n",
        "print(\"Length of the unique list:\", length)\n"
      ]
    },
    {
      "cell_type": "markdown",
      "id": "3cf14e44",
      "metadata": {
        "id": "3cf14e44"
      },
      "source": [
        "Write a Python program to sort (ascending and descending) a dictionary by key value. "
      ]
    },
    {
      "cell_type": "code",
      "execution_count": null,
      "id": "bffa8c81",
      "metadata": {
        "colab": {
          "base_uri": "https://localhost:8080/"
        },
        "id": "bffa8c81",
        "outputId": "ae88369b-e197-4c58-e181-ca88722dc5f2"
      },
      "outputs": [
        {
          "output_type": "stream",
          "name": "stdout",
          "text": [
            "Dictionary sorted by key in ascending order: {1: 'a', 2: 'b', 3: 'c', 4: 'd', 5: 'e'}\n",
            "Dictionary sorted by key in descending order: {5: 'e', 4: 'd', 3: 'c', 2: 'b', 1: 'a'}\n"
          ]
        }
      ],
      "source": [
        "# sample dictionary\n",
        "my_dict = {5: 'e', 2: 'b', 1: 'a', 4: 'd', 3: 'c'}\n",
        "\n",
        "# sort dictionary by key in ascending order\n",
        "sorted_dict = dict(sorted(my_dict.items()))\n",
        "print(\"Dictionary sorted by key in ascending order:\", sorted_dict)\n",
        "\n",
        "# sort dictionary by key in descending order\n",
        "sorted_dict = dict(sorted(my_dict.items(), reverse=True))\n",
        "print(\"Dictionary sorted by key in descending order:\", sorted_dict)\n"
      ]
    },
    {
      "cell_type": "markdown",
      "id": "1590c315",
      "metadata": {
        "id": "1590c315"
      },
      "source": [
        " Write a Python program to add key to a dictionary. Go to the editor Sample Dictionary : {0: 10, 1: 20} \n",
        "Expected Result : {0: 10, 1: 20, 2: 30} \n"
      ]
    },
    {
      "cell_type": "code",
      "execution_count": null,
      "id": "27d4021e",
      "metadata": {
        "colab": {
          "base_uri": "https://localhost:8080/"
        },
        "id": "27d4021e",
        "outputId": "cc4ffff5-676a-452f-c35b-ab390f38c705"
      },
      "outputs": [
        {
          "output_type": "stream",
          "name": "stdout",
          "text": [
            "Updated dictionary: {0: 10, 1: 20, 2: 30}\n"
          ]
        }
      ],
      "source": [
        "# sample dictionary\n",
        "my_dict = {0: 10, 1: 20}\n",
        "\n",
        "# add new key-value pair\n",
        "my_dict[2] = 30\n",
        "\n",
        "print(\"Updated dictionary:\", my_dict)\n"
      ]
    },
    {
      "cell_type": "markdown",
      "id": "8bcfebf7",
      "metadata": {
        "id": "8bcfebf7"
      },
      "source": [
        " Write a Pandas program to create and display a DataFrame from a specified dictionarydatawhich has the index labels. \n",
        "Sample Python dictionary data and list labels: \n",
        "exam_data = {'name': ['Arif', 'Asir', 'Arik', 'Anis', 'Anil', 'Ashish', 'Anahi', 'Alia', 'Alvin', 'Asim'],'score': [12.5, 9, 16.5, np.nan, 9, 20, 14.5, np.nan, 8, 19], \n",
        "'attempts': [1, 3, 2, 3, 2, 3, 1, 1, 2, 1], \n",
        "'qualify': ['yes', 'no', 'yes', 'no', 'no', 'yes', 'yes', 'no', 'no', 'yes']} \n",
        "labels = ['a', 'b', 'c', 'd', 'e', 'f', 'g', 'h', 'i', 'j']\n"
      ]
    },
    {
      "cell_type": "code",
      "execution_count": null,
      "id": "15d85408",
      "metadata": {
        "colab": {
          "base_uri": "https://localhost:8080/"
        },
        "id": "15d85408",
        "outputId": "3e806b94-c335-4e06-deb1-c7f4ff6ead56"
      },
      "outputs": [
        {
          "output_type": "stream",
          "name": "stdout",
          "text": [
            "     name  score  attempts qualify\n",
            "a    Arif   12.5         1     yes\n",
            "b    Asir    9.0         3      no\n",
            "c    Arik   16.5         2     yes\n",
            "d    Anis    NaN         3      no\n",
            "e    Anil    9.0         2      no\n",
            "f  Ashish   20.0         3     yes\n",
            "g   Anahi   14.5         1     yes\n",
            "h    Alia    NaN         1      no\n",
            "i   Alvin    8.0         2      no\n",
            "j    Asim   19.0         1     yes\n"
          ]
        }
      ],
      "source": [
        "import pandas as pd\n",
        "import numpy as np\n",
        "\n",
        "# dictionary data and index labels\n",
        "exam_data = {'name': ['Arif', 'Asir', 'Arik', 'Anis', 'Anil', 'Ashish', 'Anahi', 'Alia', 'Alvin', 'Asim'],\n",
        "             'score': [12.5, 9, 16.5, np.nan, 9, 20, 14.5, np.nan, 8, 19],\n",
        "             'attempts': [1, 3, 2, 3, 2, 3, 1, 1, 2, 1],\n",
        "             'qualify': ['yes', 'no', 'yes', 'no', 'no', 'yes', 'yes', 'no', 'no', 'yes']}\n",
        "labels = ['a', 'b', 'c', 'd', 'e', 'f', 'g', 'h', 'i', 'j']\n",
        "\n",
        "# create DataFrame from dictionary data and index labels\n",
        "df = pd.DataFrame(exam_data, index=labels)\n",
        "\n",
        "# display DataFrame\n",
        "print(df)\n"
      ]
    },
    {
      "cell_type": "code",
      "execution_count": null,
      "id": "fb857740",
      "metadata": {
        "id": "fb857740"
      },
      "outputs": [],
      "source": []
    }
  ],
  "metadata": {
    "kernelspec": {
      "display_name": "Python 3 (ipykernel)",
      "language": "python",
      "name": "python3"
    },
    "language_info": {
      "codemirror_mode": {
        "name": "ipython",
        "version": 3
      },
      "file_extension": ".py",
      "mimetype": "text/x-python",
      "name": "python",
      "nbconvert_exporter": "python",
      "pygments_lexer": "ipython3",
      "version": "3.9.13"
    },
    "colab": {
      "provenance": [],
      "include_colab_link": true
    }
  },
  "nbformat": 4,
  "nbformat_minor": 5
}